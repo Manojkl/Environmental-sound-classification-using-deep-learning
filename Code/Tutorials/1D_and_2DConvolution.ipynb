{
 "cells": [
  {
   "cell_type": "markdown",
   "metadata": {},
   "source": [
    "### What is 1D Convolutional neural network\n",
    "* CNN accepts a teo-dimensional input representing an image's pixels and color channels, in a process called feature learning.\n",
    "* Same can be applied for 1D data\n",
    "\n",
    "### Difference between 1D CNN and 2D CNN\n",
    "\n",
    "* CNN can ve 1D,2D or 3D.\n",
    "* The difference is the structure of the input data and how the filter moves across the data.\n",
    "* In NLP a sentence is made up of 9 words. Each word is a vector that represents a word. The filter covers at least one word; a height parameters that specifies how many words should the filter should consider at once. In this example the height is 2, meaning the filter moves 8 times to fully scan the data.\n",
    "* In a 2D convolutional network, each pixel within the image is represented by its x and y position as well as depth, representing image channels (red, green and blue). The filter in this example is 2x2 pixels. It moves over the image both horizontally and vertically.\n",
    "* 1D ConvNet allow us to use larger filter sizes. In 1D network, a filter size 7 or 9 contain only 7 or 9 feature vectors. Whereas in a 2D CNN, a filter size of 7 will contain 49 feature vectors.\n"
   ]
  },
  {
   "cell_type": "markdown",
   "metadata": {},
   "source": [
    "## 1D convolutional neural networks in Keras for time Sequences\n",
    "\n",
    "* A 1D CNN is very effective when you expect to derive interesting features from shorter (fixed-length) segments of the overall data set and where the location of the feature within the segment is not of high relevance.\n",
    "* This applies well to the analysis of time sequences of sensor data (such as gyroscope or accelerometer data). It also applies to the analysis of any kind of signal data over a fixed-length period (such as audio signals).\n",
    "\n",
    "### Data\n",
    "\n",
    "* We will consider time-sliced acclerometer sensor data coming from a smartphone carried by its user on their waist.\n",
    "* Based on accelerometer data of the x,y and z axis, the 1D CNN should predict the type of activity a user is performing such as \"Jogging\",\"Walking\" or \"Standing\".\n",
    "* "
   ]
  },
  {
   "cell_type": "code",
   "execution_count": null,
   "metadata": {},
   "outputs": [],
   "source": []
  }
 ],
 "metadata": {
  "kernelspec": {
   "display_name": "Python 3",
   "language": "python",
   "name": "python3"
  },
  "language_info": {
   "codemirror_mode": {
    "name": "ipython",
    "version": 3
   },
   "file_extension": ".py",
   "mimetype": "text/x-python",
   "name": "python",
   "nbconvert_exporter": "python",
   "pygments_lexer": "ipython3",
   "version": "3.7.4"
  }
 },
 "nbformat": 4,
 "nbformat_minor": 4
}
